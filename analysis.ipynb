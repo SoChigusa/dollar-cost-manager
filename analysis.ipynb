{
 "cells": [
  {
   "cell_type": "code",
   "execution_count": 1,
   "metadata": {},
   "outputs": [
    {
     "name": "stderr",
     "output_type": "stream",
     "text": [
      "/Users/SoChigusa/opt/anaconda3/lib/python3.8/site-packages/investpy/etfs.py:587: Warning: Selected country does not contain the default stock exchange of the introduced ETF. Default country is: \"hong kong\" and default stock_exchange: \"Hong Kong\".\n",
      "  warnings.warn(\n"
     ]
    }
   ],
   "source": [
    "import investpy\n",
    "stock_data = investpy.get_etf_historical_data(etf='Vanguard S&P 500', country='united states', from_date='01/01/1800', to_date='19/04/2021')"
   ]
  },
  {
   "cell_type": "code",
   "execution_count": 2,
   "metadata": {},
   "outputs": [
    {
     "data": {
      "text/html": [
       "<div>\n",
       "<style scoped>\n",
       "    .dataframe tbody tr th:only-of-type {\n",
       "        vertical-align: middle;\n",
       "    }\n",
       "\n",
       "    .dataframe tbody tr th {\n",
       "        vertical-align: top;\n",
       "    }\n",
       "\n",
       "    .dataframe thead th {\n",
       "        text-align: right;\n",
       "    }\n",
       "</style>\n",
       "<table border=\"1\" class=\"dataframe\">\n",
       "  <thead>\n",
       "    <tr style=\"text-align: right;\">\n",
       "      <th></th>\n",
       "      <th>Open</th>\n",
       "      <th>High</th>\n",
       "      <th>Low</th>\n",
       "      <th>Close</th>\n",
       "      <th>Volume</th>\n",
       "      <th>Currency</th>\n",
       "      <th>Exchange</th>\n",
       "    </tr>\n",
       "    <tr>\n",
       "      <th>Date</th>\n",
       "      <th></th>\n",
       "      <th></th>\n",
       "      <th></th>\n",
       "      <th></th>\n",
       "      <th></th>\n",
       "      <th></th>\n",
       "      <th></th>\n",
       "    </tr>\n",
       "  </thead>\n",
       "  <tbody>\n",
       "    <tr>\n",
       "      <th>2010-09-10</th>\n",
       "      <td>101.68</td>\n",
       "      <td>101.86</td>\n",
       "      <td>101.30</td>\n",
       "      <td>101.78</td>\n",
       "      <td>8638</td>\n",
       "      <td>USD</td>\n",
       "      <td>NYSE</td>\n",
       "    </tr>\n",
       "    <tr>\n",
       "      <th>2010-09-13</th>\n",
       "      <td>102.96</td>\n",
       "      <td>103.14</td>\n",
       "      <td>102.50</td>\n",
       "      <td>103.06</td>\n",
       "      <td>33753</td>\n",
       "      <td>USD</td>\n",
       "      <td>NYSE</td>\n",
       "    </tr>\n",
       "    <tr>\n",
       "      <th>2010-09-14</th>\n",
       "      <td>102.84</td>\n",
       "      <td>103.48</td>\n",
       "      <td>102.38</td>\n",
       "      <td>103.04</td>\n",
       "      <td>59420</td>\n",
       "      <td>USD</td>\n",
       "      <td>NYSE</td>\n",
       "    </tr>\n",
       "    <tr>\n",
       "      <th>2010-09-15</th>\n",
       "      <td>102.62</td>\n",
       "      <td>103.38</td>\n",
       "      <td>102.40</td>\n",
       "      <td>103.30</td>\n",
       "      <td>9283</td>\n",
       "      <td>USD</td>\n",
       "      <td>NYSE</td>\n",
       "    </tr>\n",
       "    <tr>\n",
       "      <th>2010-09-16</th>\n",
       "      <td>103.02</td>\n",
       "      <td>103.32</td>\n",
       "      <td>102.70</td>\n",
       "      <td>103.26</td>\n",
       "      <td>59581</td>\n",
       "      <td>USD</td>\n",
       "      <td>NYSE</td>\n",
       "    </tr>\n",
       "    <tr>\n",
       "      <th>...</th>\n",
       "      <td>...</td>\n",
       "      <td>...</td>\n",
       "      <td>...</td>\n",
       "      <td>...</td>\n",
       "      <td>...</td>\n",
       "      <td>...</td>\n",
       "      <td>...</td>\n",
       "    </tr>\n",
       "    <tr>\n",
       "      <th>2021-04-15</th>\n",
       "      <td>380.35</td>\n",
       "      <td>382.52</td>\n",
       "      <td>380.28</td>\n",
       "      <td>382.29</td>\n",
       "      <td>3573828</td>\n",
       "      <td>USD</td>\n",
       "      <td>NYSE</td>\n",
       "    </tr>\n",
       "    <tr>\n",
       "      <th>2021-04-16</th>\n",
       "      <td>383.56</td>\n",
       "      <td>384.15</td>\n",
       "      <td>382.19</td>\n",
       "      <td>383.63</td>\n",
       "      <td>3246995</td>\n",
       "      <td>USD</td>\n",
       "      <td>NYSE</td>\n",
       "    </tr>\n",
       "    <tr>\n",
       "      <th>2021-04-17</th>\n",
       "      <td>383.63</td>\n",
       "      <td>383.63</td>\n",
       "      <td>383.63</td>\n",
       "      <td>383.63</td>\n",
       "      <td>0</td>\n",
       "      <td>USD</td>\n",
       "      <td>NYSE</td>\n",
       "    </tr>\n",
       "    <tr>\n",
       "      <th>2021-04-18</th>\n",
       "      <td>383.63</td>\n",
       "      <td>383.63</td>\n",
       "      <td>383.63</td>\n",
       "      <td>383.63</td>\n",
       "      <td>0</td>\n",
       "      <td>USD</td>\n",
       "      <td>NYSE</td>\n",
       "    </tr>\n",
       "    <tr>\n",
       "      <th>2021-04-19</th>\n",
       "      <td>383.63</td>\n",
       "      <td>383.63</td>\n",
       "      <td>380.37</td>\n",
       "      <td>381.74</td>\n",
       "      <td>3945743</td>\n",
       "      <td>USD</td>\n",
       "      <td>NYSE</td>\n",
       "    </tr>\n",
       "  </tbody>\n",
       "</table>\n",
       "<p>2700 rows × 7 columns</p>\n",
       "</div>"
      ],
      "text/plain": [
       "              Open    High     Low   Close   Volume Currency Exchange\n",
       "Date                                                                 \n",
       "2010-09-10  101.68  101.86  101.30  101.78     8638      USD     NYSE\n",
       "2010-09-13  102.96  103.14  102.50  103.06    33753      USD     NYSE\n",
       "2010-09-14  102.84  103.48  102.38  103.04    59420      USD     NYSE\n",
       "2010-09-15  102.62  103.38  102.40  103.30     9283      USD     NYSE\n",
       "2010-09-16  103.02  103.32  102.70  103.26    59581      USD     NYSE\n",
       "...            ...     ...     ...     ...      ...      ...      ...\n",
       "2021-04-15  380.35  382.52  380.28  382.29  3573828      USD     NYSE\n",
       "2021-04-16  383.56  384.15  382.19  383.63  3246995      USD     NYSE\n",
       "2021-04-17  383.63  383.63  383.63  383.63        0      USD     NYSE\n",
       "2021-04-18  383.63  383.63  383.63  383.63        0      USD     NYSE\n",
       "2021-04-19  383.63  383.63  380.37  381.74  3945743      USD     NYSE\n",
       "\n",
       "[2700 rows x 7 columns]"
      ]
     },
     "execution_count": 2,
     "metadata": {},
     "output_type": "execute_result"
    }
   ],
   "source": [
    "stock_data"
   ]
  },
  {
   "cell_type": "code",
   "execution_count": 3,
   "metadata": {},
   "outputs": [
    {
     "data": {
      "text/plain": [
       "Date\n",
       "2010-09-10    101.58\n",
       "2010-09-13    102.82\n",
       "2010-09-14    102.93\n",
       "2010-09-15    102.89\n",
       "2010-09-16    103.01\n",
       "               ...  \n",
       "2021-04-15    381.40\n",
       "2021-04-16    383.17\n",
       "2021-04-17    383.63\n",
       "2021-04-18    383.63\n",
       "2021-04-19    382.00\n",
       "Length: 2700, dtype: float64"
      ]
     },
     "execution_count": 3,
     "metadata": {},
     "output_type": "execute_result"
    }
   ],
   "source": [
    "df = stock_data[['High', 'Low']]\n",
    "mean = df.mean(axis='columns')\n",
    "mean"
   ]
  },
  {
   "cell_type": "code",
   "execution_count": 4,
   "metadata": {},
   "outputs": [
    {
     "data": {
      "text/plain": [
       "Text(0.5, 1.0, 'Recent 1yr')"
      ]
     },
     "execution_count": 4,
     "metadata": {},
     "output_type": "execute_result"
    },
    {
     "data": {
      "image/png": "[encoded data removed]",
      "text/plain": [
       "<Figure size 864x288 with 2 Axes>"
      ]
     },
     "metadata": {
      "needs_background": "light"
     },
     "output_type": "display_data"
    }
   ],
   "source": [
    "import numpy as np\n",
    "from iminuit import Minuit\n",
    "from probfit import Chi2Regression, linear\n",
    "\n",
    "y = np.array(mean)\n",
    "x = np.array(range(y.size))\n",
    "yo, yr = np.split(y, [y.size-365])\n",
    "xo, xr = np.split(x, [x.size-365])\n",
    "\n",
    "bc2 = Chi2Regression(linear, x, y)\n",
    "m = Minuit(bc2, m = 0.1, c = 100)\n",
    "m.migrad()\n",
    "\n",
    "bc2r = Chi2Regression(linear, xr, yr)\n",
    "mr = Minuit(bc2r, m = 0.1, c = 100)\n",
    "mr.migrad()\n",
    "\n",
    "import matplotlib.pylab as plt \n",
    "plt.figure(figsize=(12, 4))\n",
    "plt.subplot(121)\n",
    "bc2.draw(m)\n",
    "plt.title('From 2010/9/10')\n",
    "\n",
    "plt.subplot(122)\n",
    "bc2r.draw(mr)\n",
    "plt.title('Recent 1yr')"
   ]
  },
  {
   "cell_type": "code",
   "execution_count": null,
   "metadata": {},
   "outputs": [],
   "source": []
  }
 ],
 "metadata": {
  "kernelspec": {
   "display_name": "Python 3",
   "language": "python",
   "name": "python3"
  },
  "language_info": {
   "codemirror_mode": {
    "name": "ipython",
    "version": 3
   },
   "file_extension": ".py",
   "mimetype": "text/x-python",
   "name": "python",
   "nbconvert_exporter": "python",
   "pygments_lexer": "ipython3",
   "version": "3.8.5"
  }
 },
 "nbformat": 4,
 "nbformat_minor": 4
}
