{
 "cells": [
  {
   "cell_type": "markdown",
   "metadata": {},
   "source": [
    "# Test and develop new functions"
   ]
  },
  {
   "cell_type": "code",
   "execution_count": 1,
   "metadata": {},
   "outputs": [],
   "source": [
    "import yaml\n",
    "import numpy as np\n",
    "import datetime\n",
    "from datetime import datetime, timedelta\n",
    "\n",
    "# 設定ファイルの読み込み\n",
    "with open('config.yml', 'r') as yml:\n",
    "    cf = yaml.load(yml, Loader=yaml.SafeLoader)"
   ]
  },
  {
   "cell_type": "code",
   "execution_count": 2,
   "metadata": {},
   "outputs": [],
   "source": [
    "startCol = 58"
   ]
  },
  {
   "cell_type": "markdown",
   "metadata": {},
   "source": [
    "## Open Google Form"
   ]
  },
  {
   "cell_type": "code",
   "execution_count": 3,
   "metadata": {},
   "outputs": [],
   "source": [
    "from selenium import webdriver\n",
    "from selenium.webdriver.common.keys import Keys\n",
    "from selenium.webdriver.support.ui import WebDriverWait\n",
    "\n",
    "cService = webdriver.ChromeService(executable_path=cf['webdriver'])\n",
    "chrome = webdriver.Chrome(service=cService)\n",
    "\n",
    "# Googleフォームを開く\n",
    "chrome.get(cf['URL']+'&entry.'+cf['entry-expected-cost']+'='+cf['expected-cost'])\n",
    "\n",
    "# タブが閉じられるのを待つ\n",
    "WebDriverWait(chrome, 60*60*24).until(lambda d: len(d.window_handles) == 0)\n",
    "\n",
    "# 終了処理\n",
    "chrome.quit()"
   ]
  },
  {
   "cell_type": "markdown",
   "metadata": {},
   "source": [
    "## Read from spread"
   ]
  },
  {
   "cell_type": "code",
   "execution_count": 4,
   "metadata": {},
   "outputs": [
    {
     "name": "stdout",
     "output_type": "stream",
     "text": [
      "Next purchase date is set to be 2024/03/12!!\n"
     ]
    }
   ],
   "source": [
    "import gspread\n",
    "\n",
    "#ServiceAccountCredentials：Googleの各サービスへアクセスできるservice変数を生成します。\n",
    "from oauth2client.service_account import ServiceAccountCredentials\n",
    "\n",
    "#2つのAPIを記述しないとリフレッシュトークンを3600秒毎に発行し続けなければならない\n",
    "scope = ['https://spreadsheets.google.com/feeds','https://www.googleapis.com/auth/drive']\n",
    "\n",
    "#認証情報設定\n",
    "#ダウンロードしたjsonファイル名をクレデンシャル変数に設定（秘密鍵、Pythonファイルから読み込みしやすい位置に置く）\n",
    "credentials = ServiceAccountCredentials.from_json_keyfile_name(cf['json'], scope)\n",
    "\n",
    "#OAuth2の資格情報を使用してGoogle APIにログインします。\n",
    "gc = gspread.authorize(credentials)\n",
    "\n",
    "#共有設定したスプレッドシートキーを変数[SPREADSHEET_KEY]に格納する。\n",
    "SPREADSHEET_KEY = cf['spreadsheet-key']\n",
    "\n",
    "#共有設定したスプレッドシートのシート1を開く\n",
    "worksheet = gc.open_by_key(SPREADSHEET_KEY).sheet1\n",
    "\n",
    "#セルの値を受け取る\n",
    "values = worksheet.get_all_records()\n",
    "prices = list(map(lambda l: l[\"Today's cost\"], values))\n",
    "\n",
    "# 次回購入日付の計算\n",
    "startDate = datetime.strptime(values[startCol-2][\"タイムスタンプ\"], '%Y/%m/%d %H:%M:%S')\n",
    "totalCurrent = np.sum(prices[startCol-2:])\n",
    "expectDays = 30 * totalCurrent / float(values[-1][\"Expected cost per month\"])\n",
    "next = startDate + timedelta(days = expectDays)\n",
    "\n",
    "# 次の購入日付および総コストを書き込み\n",
    "strnext = next.strftime('%Y/%m/%d')\n",
    "worksheet.update_cell(len(values)+1, 4, strnext)\n",
    "worksheet.update_cell(len(values)+1, 5, str(float(values[-2][\"Total cost\"]) + float(values[-1][\"Today's cost\"])))\n",
    "print('Next purchase date is set to be '+strnext+'!!')"
   ]
  },
  {
   "cell_type": "markdown",
   "metadata": {},
   "source": [
    "## Write to calendar"
   ]
  },
  {
   "cell_type": "code",
   "execution_count": 5,
   "metadata": {},
   "outputs": [],
   "source": [
    "# next = datetime.strptime('1992/05/22', '%Y/%m/%d')"
   ]
  },
  {
   "cell_type": "code",
   "execution_count": 8,
   "metadata": {},
   "outputs": [
    {
     "name": "stdout",
     "output_type": "stream",
     "text": [
      "Added to Google Calendar with ID= 20a0n1cc81eph2qtq4lbtoamqc\n"
     ]
    }
   ],
   "source": [
    "import os\n",
    "from googleapiclient.discovery import build\n",
    "from google_auth_oauthlib.flow import InstalledAppFlow\n",
    "from google.auth.transport.requests import Request\n",
    "from google.oauth2.credentials import Credentials\n",
    "\n",
    "# If modifying these scopes, delete the file token.json.\n",
    "SCOPES = ['https://www.googleapis.com/auth/calendar']\n",
    "\n",
    "creds = None\n",
    "# The file token.json stores the user's access and refresh tokens, and is\n",
    "# created automatically when the authorization flow completes for the first\n",
    "# time.\n",
    "if os.path.exists('token.json'):\n",
    "    creds = Credentials.from_authorized_user_file('token.json', SCOPES)\n",
    "# If there are no (valid) credentials available, let the user log in.\n",
    "if not creds or not creds.valid:\n",
    "    if creds and creds.expired and creds.refresh_token:\n",
    "        creds.refresh(Request())\n",
    "    else:\n",
    "        flow = InstalledAppFlow.from_client_secrets_file(\n",
    "            'credentials.json', SCOPES)\n",
    "        creds = flow.run_local_server(port=0)\n",
    "    # Save the credentials for the next run\n",
    "    with open('token.json', 'w') as token:\n",
    "        token.write(creds.to_json())\n",
    "\n",
    "service = build('calendar', 'v3', credentials=creds)\n",
    "\n",
    "event = {\n",
    "  'summary': 'ETF新規購入',\n",
    "  'location': 'Charles Schwab',\n",
    "  'description': 'Automatically scheduled by Dollar Cost Manager App',\n",
    "  'start': {\n",
    "    'dateTime': next.strftime('%Y-%m-%dT09:30:00'),\n",
    "    'timeZone': 'America/New_York',\n",
    "  },\n",
    "  'end': {\n",
    "    'dateTime': next.strftime('%Y-%m-%dT16:00:00'),\n",
    "    'timeZone': 'America/New_York',\n",
    "  },\n",
    "}\n",
    "\n",
    "event = service.events().insert(calendarId=cf['calendar-id'],\n",
    "                                body=event).execute()\n",
    "print('Added to Google Calendar with ID=', event['id'])"
   ]
  },
  {
   "cell_type": "code",
   "execution_count": null,
   "metadata": {},
   "outputs": [],
   "source": []
  }
 ],
 "metadata": {
  "kernelspec": {
   "display_name": "Python 3",
   "language": "python",
   "name": "python3"
  },
  "language_info": {
   "codemirror_mode": {
    "name": "ipython",
    "version": 3
   },
   "file_extension": ".py",
   "mimetype": "text/x-python",
   "name": "python",
   "nbconvert_exporter": "python",
   "pygments_lexer": "ipython3",
   "version": "3.10.12"
  }
 },
 "nbformat": 4,
 "nbformat_minor": 2
}
